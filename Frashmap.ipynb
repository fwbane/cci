{
 "cells": [
  {
   "cell_type": "code",
   "execution_count": 203,
   "metadata": {
    "collapsed": false
   },
   "outputs": [],
   "source": [
    "# Implementation of Hashmap class from scratch\n",
    "class Frashmap:\n",
    "    def __init__(self, size=128):\n",
    "        self.size = size\n",
    "        self.table = [[] for i in range(self.size)]\n",
    "    \n",
    "    def __getitem__(self, key):\n",
    "        return self.get(key)\n",
    "    \n",
    "    def __setitem__(self, key, value):\n",
    "        self.put(key, value)\n",
    "\n",
    "    def __repr__(self):\n",
    "        return \"\\n\".join([\"{}: {}\".format(index, bucket) for index, bucket in enumerate(self.table) if len(bucket)>0])\n",
    "        \n",
    "    def get(self, key):\n",
    "#         Returns the value for a given key if present, else returns None\n",
    "        lookup = KV_pair(key)\n",
    "        value = None\n",
    "        bucket = self._get_bucket(lookup)\n",
    "        for kv_pair in self.table[bucket]:\n",
    "            if kv_pair.key == lookup.key:\n",
    "                return kv_pair\n",
    "        return None\n",
    "        \n",
    "    def put(self, key, value):\n",
    "#         Adds a key-value pair to the table\n",
    "        kv = KV_pair(key, value)\n",
    "        bucket = self._get_bucket(kv)\n",
    "        for i, kv_pair in enumerate(self.table[bucket]):\n",
    "            if kv_pair.key == key:\n",
    "                del self.table[bucket][i]\n",
    "            break\n",
    "        self.table[bucket].append(kv)\n",
    "    \n",
    "    def delete(self, key):\n",
    "        kv = KV_pair(key)\n",
    "        bucket = self._get_bucket(kv)\n",
    "        for i, kv_pair in enumerate(self.table[bucket]):\n",
    "            if kv_pair.key == kv.key:\n",
    "                del self.table[bucket][i]\n",
    "                break\n",
    "            \n",
    "    def get_size(self):\n",
    "        table_size = 0\n",
    "        for bucket in self.table:\n",
    "            if len(bucket) != 0:\n",
    "                for entry in bucket:\n",
    "                    if isinstance(entry, KV_pair):\n",
    "                        table_size += 1\n",
    "        return table_size\n",
    "    \n",
    "    def _get_bucket(self, kv_pair):\n",
    "        if not isinstance(kv_pair, KV_pair):\n",
    "            raise TypeError(\"can only get bucket for KV_pairs\")\n",
    "        return kv_pair.hash % self.size\n",
    "\n",
    "class KV_pair:\n",
    "    def __init__(self, key, value=None):\n",
    "        self.key = str(key)\n",
    "        self.value = str(value) if value else None\n",
    "        self._hash_value()\n",
    "        \n",
    "    def __eq__(this, that):\n",
    "        return this.key == that.key\n",
    "    \n",
    "    def __repr__(self):\n",
    "        return \"{0.key}: {0.value}\".format(self)\n",
    "            \n",
    "    def _hash_value(self):\n",
    "        hash_value = 1\n",
    "        for i in range(len(self.key)):\n",
    "            hash_value += ord(self.key[i]) * 17\n",
    "        self.hash = hash_value"
   ]
  },
  {
   "cell_type": "code",
   "execution_count": 204,
   "metadata": {
    "collapsed": false
   },
   "outputs": [],
   "source": [
    "newMap = Frashmap()"
   ]
  },
  {
   "cell_type": "code",
   "execution_count": 205,
   "metadata": {
    "collapsed": false
   },
   "outputs": [],
   "source": [
    "newMap.put(4, \"four\")"
   ]
  },
  {
   "cell_type": "code",
   "execution_count": 206,
   "metadata": {
    "collapsed": true
   },
   "outputs": [],
   "source": [
    "newMap.table[0] = [KV_pair(6, \"six\")]"
   ]
  },
  {
   "cell_type": "code",
   "execution_count": 207,
   "metadata": {
    "collapsed": false
   },
   "outputs": [
    {
     "data": {
      "text/plain": [
       "2"
      ]
     },
     "execution_count": 207,
     "metadata": {},
     "output_type": "execute_result"
    }
   ],
   "source": [
    "newMap.get_size()"
   ]
  },
  {
   "cell_type": "code",
   "execution_count": 208,
   "metadata": {
    "collapsed": false
   },
   "outputs": [
    {
     "data": {
      "text/plain": [
       "__main__.KV_pair"
      ]
     },
     "execution_count": 208,
     "metadata": {},
     "output_type": "execute_result"
    }
   ],
   "source": [
    "type(newMap.get(\"4\"))"
   ]
  },
  {
   "cell_type": "code",
   "execution_count": 130,
   "metadata": {
    "collapsed": true
   },
   "outputs": [],
   "source": [
    "newMap.delete(4)"
   ]
  },
  {
   "cell_type": "code",
   "execution_count": 157,
   "metadata": {
    "collapsed": false
   },
   "outputs": [
    {
     "ename": "TypeError",
     "evalue": "sequence item 0: expected str instance, list found",
     "output_type": "error",
     "traceback": [
      "\u001b[0;31m---------------------------------------------------------------------------\u001b[0m",
      "\u001b[0;31mTypeError\u001b[0m                                 Traceback (most recent call last)",
      "\u001b[0;32m<ipython-input-157-6d7ad67b935d>\u001b[0m in \u001b[0;36m<module>\u001b[0;34m()\u001b[0m\n\u001b[0;32m----> 1\u001b[0;31m \u001b[0mprint\u001b[0m\u001b[1;33m(\u001b[0m\u001b[1;34m\"\\n\"\u001b[0m\u001b[1;33m.\u001b[0m\u001b[0mjoin\u001b[0m\u001b[1;33m(\u001b[0m\u001b[1;33m[\u001b[0m\u001b[0mkv\u001b[0m \u001b[1;32mfor\u001b[0m \u001b[0mkv\u001b[0m \u001b[1;32min\u001b[0m \u001b[0mnewMap\u001b[0m\u001b[1;33m.\u001b[0m\u001b[0mtable\u001b[0m \u001b[1;32mif\u001b[0m \u001b[0mlen\u001b[0m\u001b[1;33m(\u001b[0m\u001b[0mkv\u001b[0m\u001b[1;33m)\u001b[0m\u001b[1;33m>\u001b[0m\u001b[1;36m0\u001b[0m\u001b[1;33m]\u001b[0m\u001b[1;33m)\u001b[0m\u001b[1;33m)\u001b[0m\u001b[1;33m\u001b[0m\u001b[0m\n\u001b[0m",
      "\u001b[0;31mTypeError\u001b[0m: sequence item 0: expected str instance, list found"
     ]
    }
   ],
   "source": [
    "print(\"\\n\".join([kv for kv in newMap.table if len(kv)>0]))"
   ]
  },
  {
   "cell_type": "code",
   "execution_count": 209,
   "metadata": {
    "collapsed": false
   },
   "outputs": [
    {
     "name": "stdout",
     "output_type": "stream",
     "text": [
      "0: ['6': 'six']\n",
      "117: ['4': 'four']\n"
     ]
    }
   ],
   "source": [
    "print(newMap)"
   ]
  },
  {
   "cell_type": "code",
   "execution_count": 211,
   "metadata": {
    "collapsed": false
   },
   "outputs": [],
   "source": [
    "newMap.table[117].append(KV_pair(\"somethingelse\", \"a value\"))"
   ]
  },
  {
   "cell_type": "code",
   "execution_count": 213,
   "metadata": {
    "collapsed": false
   },
   "outputs": [
    {
     "data": {
      "text/plain": [
       "['4': 'four', 'somethingelse': 'a value']"
      ]
     },
     "execution_count": 213,
     "metadata": {},
     "output_type": "execute_result"
    }
   ],
   "source": [
    "newMap.table[117]"
   ]
  },
  {
   "cell_type": "code",
   "execution_count": 214,
   "metadata": {
    "collapsed": false
   },
   "outputs": [
    {
     "data": {
      "text/plain": [
       "3"
      ]
     },
     "execution_count": 214,
     "metadata": {},
     "output_type": "execute_result"
    }
   ],
   "source": [
    "newMap.get_size()"
   ]
  },
  {
   "cell_type": "code",
   "execution_count": 221,
   "metadata": {
    "collapsed": false
   },
   "outputs": [
    {
     "data": {
      "text/plain": [
       "834"
      ]
     },
     "execution_count": 221,
     "metadata": {},
     "output_type": "execute_result"
    }
   ],
   "source": [
    "kv = KV_pair(1, \"one\")\n",
    "kv.hash"
   ]
  },
  {
   "cell_type": "code",
   "execution_count": 228,
   "metadata": {
    "collapsed": false
   },
   "outputs": [
    {
     "name": "stdout",
     "output_type": "stream",
     "text": [
      "834\n"
     ]
    }
   ],
   "source": [
    "for i in range(len(kv.key)):\n",
    "    print(1 + ord(kv.key[i]) * 17) "
   ]
  }
 ],
 "metadata": {
  "anaconda-cloud": {},
  "kernelspec": {
   "display_name": "Python [default]",
   "language": "python",
   "name": "python3"
  },
  "language_info": {
   "codemirror_mode": {
    "name": "ipython",
    "version": 3
   },
   "file_extension": ".py",
   "mimetype": "text/x-python",
   "name": "python",
   "nbconvert_exporter": "python",
   "pygments_lexer": "ipython3",
   "version": "3.5.2"
  },
  "varInspector": {
   "cols": {
    "lenName": 16,
    "lenType": 16,
    "lenVar": 40
   },
   "kernels_config": {
    "python": {
     "delete_cmd_postfix": "",
     "delete_cmd_prefix": "del ",
     "library": "var_list.py",
     "varRefreshCmd": "print(var_dic_list())"
    },
    "r": {
     "delete_cmd_postfix": ") ",
     "delete_cmd_prefix": "rm(",
     "library": "var_list.r",
     "varRefreshCmd": "cat(var_dic_list()) "
    }
   },
   "types_to_exclude": [
    "module",
    "function",
    "builtin_function_or_method",
    "instance",
    "_Feature"
   ],
   "window_display": false
  }
 },
 "nbformat": 4,
 "nbformat_minor": 2
}
